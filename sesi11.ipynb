{
 "cells": [
  {
   "cell_type": "code",
   "execution_count": 71,
   "id": "7a738de8-c121-4094-9b1c-07e5c1186eff",
   "metadata": {},
   "outputs": [
    {
     "name": "stdin",
     "output_type": "stream",
     "text": [
      " bubur ayam\n"
     ]
    },
    {
     "name": "stdout",
     "output_type": "stream",
     "text": [
      "rubub maya "
     ]
    }
   ],
   "source": [
    "def reversedWord(word):\n",
    "    word = word.split(\" \")\n",
    "    for i in range(len(word)):\n",
    "        rword = reversed(word[i])\n",
    "        for j in rword:\n",
    "            print(j, end=\"\")\n",
    "        print(\"\", end=\" \")\n",
    "\n",
    "word = input()\n",
    "reversedWord(word)"
   ]
  },
  {
   "cell_type": "code",
   "execution_count": 67,
   "id": "538cfb9f-0033-4a84-a45e-0bd6ebb5a296",
   "metadata": {},
   "outputs": [
    {
     "name": "stdin",
     "output_type": "stream",
     "text": [
      " ikan goreng\n",
      " 2 1\n"
     ]
    },
    {
     "name": "stdout",
     "output_type": "stream",
     "text": [
      "goreng ikan "
     ]
    }
   ],
   "source": [
    "def basedOnOrder(word, number):\n",
    "    word = word.split(\" \")\n",
    "    number = number.split(\" \")\n",
    "    number = list(map(int, number))\n",
    "    for i in number:\n",
    "        print(word[i-1], end=\" \")\n",
    "\n",
    "sentence = input()\n",
    "indeks = input()\n",
    "basedOnOrder(sentence, indeks)"
   ]
  },
  {
   "cell_type": "code",
   "execution_count": 72,
   "id": "7bab7bcd-348d-46a8-977d-2aed558b2673",
   "metadata": {},
   "outputs": [
    {
     "name": "stdin",
     "output_type": "stream",
     "text": [
      "Masukan Kalimat: bubur ayam\n",
      "Masukan Pilihan (1-2): 2\n"
     ]
    },
    {
     "name": "stdout",
     "output_type": "stream",
     "text": [
      "b|_|b|_|r 4y4m\n"
     ]
    }
   ],
   "source": [
    "def changeVokal(word, choose):\n",
    "    word = list(word)\n",
    "    if choose == 1:\n",
    "        for i in range(len(word)):\n",
    "            if word[i] == \"A\":\n",
    "                word[i] = \"4\"\n",
    "            elif word[i] == \"I\":\n",
    "                word[i] = \"1\"\n",
    "            elif word[i] == \"U\":\n",
    "                word[i] = \"|_|\"\n",
    "            elif word[i] == \"E\":\n",
    "                word[i] = \"3\"\n",
    "            elif word[i] == \"O\":\n",
    "                word[i] = \"0\"\n",
    " \n",
    "    elif choose == 2:\n",
    "        for i in range(len(word)):\n",
    "            if word[i] == \"a\":\n",
    "                word[i] = \"4\"\n",
    "            elif word[i] == \"i\":\n",
    "                word[i] = \"1\"\n",
    "            elif word[i] == \"u\":\n",
    "                word[i] = \"|_|\"\n",
    "            elif word[i] == \"e\":\n",
    "                word[i] = \"3\"\n",
    "            elif word[i] == \"o\":\n",
    "                word[i] = \"0\"\n",
    "    word = \"\".join(word)\n",
    "    print(word)\n",
    "\n",
    "word = input(\"Masukan Kalimat:\")\n",
    "choose = int(input(\"Masukan Pilihan (1-2):\"))\n",
    "changeVokal(word,choose)"
   ]
  },
  {
   "cell_type": "code",
   "execution_count": null,
   "id": "bdc07d03-f297-4cfe-b500-3151372492f3",
   "metadata": {},
   "outputs": [],
   "source": []
  }
 ],
 "metadata": {
  "kernelspec": {
   "display_name": "Python 3 (ipykernel)",
   "language": "python",
   "name": "python3"
  },
  "language_info": {
   "codemirror_mode": {
    "name": "ipython",
    "version": 3
   },
   "file_extension": ".py",
   "mimetype": "text/x-python",
   "name": "python",
   "nbconvert_exporter": "python",
   "pygments_lexer": "ipython3",
   "version": "3.12.9"
  }
 },
 "nbformat": 4,
 "nbformat_minor": 5
}
