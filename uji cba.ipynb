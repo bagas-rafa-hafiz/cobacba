{
 "cells": [
  {
   "cell_type": "code",
   "execution_count": 4,
   "id": "6258857c-e78e-4b6f-9b2b-11c97863c478",
   "metadata": {},
   "outputs": [
    {
     "name": "stdin",
     "output_type": "stream",
     "text": [
      "Masukan kalimat : UNIVERSITAS NUSA PUTRA SUKABUMI\n"
     ]
    },
    {
     "name": "stdout",
     "output_type": "stream",
     "text": [
      "\n",
      " a.PUTRA NUSA\n",
      "\n",
      " b.NIVERSITAS NSA PTRA SKABMI\n",
      "\n",
      " c.SUKABUMI PUTRA NUSA UNIVERSITAS\n",
      "\n",
      " d.UNPS\n",
      "\n",
      " e.TAS SAPU BUMI\n"
     ]
    }
   ],
   "source": [
    "kalimat = input(\"Masukan kalimat :\")\n",
    "#a. putra nusa\n",
    "print(\"\\n a.\", end = '')\n",
    "print(kalimat [17:22], end = ' ')#PUTRA\n",
    "print(kalimat [12:16])#NUSA\n",
    "#b. NIVERSITAS NSA PTRA SKABMI\n",
    "print(\"\\n b.\", end = '')\n",
    "print(kalimat [1:11], end = ' ')#NIVERSITAS\n",
    "print(kalimat [12], end = '')#N\n",
    "print(kalimat [14:16], end = ' ')#SA\n",
    "print(kalimat [17], end = '')#P\n",
    "print(kalimat [19:-9], end = ' ')#TRA\n",
    "print(kalimat [23], end = '')#S\n",
    "print(kalimat [25:28], end = '')#KAB\n",
    "print(kalimat [29:])#MI\n",
    "#c. SUKABUMI PUTRA NUSA UNIVERSITAS\n",
    "print(\"\\n c.\", end = '')\n",
    "print(kalimat [23:], end = ' ')#SUKABUMI\n",
    "print(kalimat [17:22], end = ' ')#PUTRA\n",
    "print(kalimat [12:16], end = ' ')#NUSA\n",
    "print(kalimat [0:11])#UNIVERSITAS\n",
    "#d. UNPS\n",
    "print(\"\\n d.\", end = '')\n",
    "print(kalimat [0], end = '')#U\n",
    "print(kalimat [12], end = '')#N\n",
    "print(kalimat [17], end = '')#P\n",
    "print(kalimat [23])#S\n",
    "print(\"\\n e.\", end = '')\n",
    "print(kalimat [8:11], end = ' ')#TAS\n",
    "print(kalimat [14:16], end = '')#SA\n",
    "print(kalimat [17:19], end = ' ')#PU\n",
    "print(kalimat [27:])#BUMI"
   ]
  }
 ],
 "metadata": {
  "kernelspec": {
   "display_name": "Python [conda env:base] *",
   "language": "python",
   "name": "conda-base-py"
  },
  "language_info": {
   "codemirror_mode": {
    "name": "ipython",
    "version": 3
   },
   "file_extension": ".py",
   "mimetype": "text/x-python",
   "name": "python",
   "nbconvert_exporter": "python",
   "pygments_lexer": "ipython3",
   "version": "3.12.7"
  }
 },
 "nbformat": 4,
 "nbformat_minor": 5
}
